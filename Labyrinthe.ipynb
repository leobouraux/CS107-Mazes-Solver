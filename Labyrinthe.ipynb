{
 "cells": [
  {
   "cell_type": "code",
   "execution_count": 1,
   "metadata": {},
   "outputs": [],
   "source": [
    "import numpy as np\n",
    "from matplotlib import pyplot as plt\n",
    "\n",
    "from IPython.display import set_matplotlib_formats\n",
    "set_matplotlib_formats('retina')"
   ]
  },
  {
   "cell_type": "markdown",
   "metadata": {},
   "source": [
    "# Initial Random Maze"
   ]
  },
  {
   "cell_type": "code",
   "execution_count": 2,
   "metadata": {},
   "outputs": [
    {
     "data": {
      "image/png": "[encoded data removed]",
      "text/plain": [
       "<Figure size 432x288 with 1 Axes>"
      ]
     },
     "metadata": {
      "needs_background": "light"
     },
     "output_type": "display_data"
    }
   ],
   "source": [
    "# create a new maze\n",
    "def newMaze(seed=1234, height=5, width=10, prob=0.2):\n",
    "    np.random.seed(seed)\n",
    "    maze = (np.random.uniform(size=(height,width))>prob)*1\n",
    "    maze[0,0] = -1\n",
    "    maze[-1, -1] = 3\n",
    "    plt.imshow(maze)\n",
    "    plt.show()\n",
    "    return maze, height, width\n",
    "\n",
    "MAZE, height, width = newMaze()"
   ]
  },
  {
   "cell_type": "markdown",
   "metadata": {},
   "source": [
    "# STEP 1"
   ]
  },
  {
   "cell_type": "code",
   "execution_count": 3,
   "metadata": {},
   "outputs": [],
   "source": [
    "# move from current position to neighbour position\n",
    "def left(posX,posY):\n",
    "    return posX,posY-1\n",
    "\n",
    "def right(posX,posY):\n",
    "    return posX,posY+1\n",
    "\n",
    "def up(posX,posY):\n",
    "    return posX-1,posY\n",
    "\n",
    "def down(posX,posY):\n",
    "    return posX+1,posY\n",
    "\n",
    "def direction(string, posX, posY):\n",
    "    if string == 'D':\n",
    "        return down(posX, posY)\n",
    "    elif string == 'L':\n",
    "        return left(posX, posY)\n",
    "    elif string == 'R':\n",
    "        return right(posX, posY)\n",
    "    elif string == 'U':\n",
    "        return up(posX, posY)\n",
    "\n",
    "# used to add cases next to our current position to the end of to_do list\n",
    "def case1(tab, maze, posX, posY, todo, current):\n",
    "    if 'L' in tab and maze[left(posX,posY)]==1:\n",
    "        maze[left(posX,posY)] = current+1\n",
    "        todo.append(left(posX,posY))\n",
    "    if 'R' in tab and maze[right(posX,posY)]==1:\n",
    "        maze[right(posX,posY)] = current+1\n",
    "        todo.append(right(posX,posY))\n",
    "    if 'U' in tab and maze[up(posX,posY)]==1:\n",
    "        maze[up(posX,posY)] = current+1\n",
    "        todo.append(up(posX,posY))\n",
    "    if 'D' in tab and maze[down(posX,posY)]==1:\n",
    "        maze[down(posX,posY)] = current+1\n",
    "        todo.append(down(posX,posY))\n",
    "    return maze, todo\n",
    "\n",
    "# complete the step 1\n",
    "def step1(maze_c):\n",
    "    maze = maze_c.copy()\n",
    "    posX, posY = 0, 0\n",
    "    todo = [(posX, posY)] # contains the position we still have to explore\n",
    "    maze[posX,posY] = 0 \n",
    "    maze[height-1,width-1] = 1\n",
    "    \n",
    "    # while there is still a cell to explore\n",
    "    while len(todo)>0:\n",
    "        posX, posY = todo.pop(0) # we explore the oldest value in todo\n",
    "        current = maze[posX, posY]\n",
    "        \n",
    "        #PARTICULAR CELL:\n",
    "        # adjacent to already processed 1's\n",
    "        if((posX==1 and posY==1) or (posX==0 and posY==2) or (posX==2 and posY==0)):\n",
    "            if(width>3 and maze[right(posX,posY)]==1):\n",
    "                maze[right(posX,posY)] = current+1\n",
    "                todo.append(right(posX,posY))\n",
    "            if(height>3 and maze[down(posX,posY)]==1):\n",
    "                maze[down(posX,posY)] = current+1\n",
    "                todo.append(down(posX,posY)) \n",
    "        \n",
    "        #CORNER CELLS:\n",
    "        # on top-left corner\n",
    "        elif(posY==0 and posX==0):\n",
    "            maze, todo = case1(['R', 'D'], maze, posX, posY, todo, current)            \n",
    "        # on top-right corner\n",
    "        elif(posY==width-1 and posX==0):\n",
    "            maze, todo = case1(['L', 'D'], maze, posX, posY, todo, current)         \n",
    "        # on bottom-left corner\n",
    "        elif(posY==0 and posX==height-1):\n",
    "            maze, todo = case1(['R', 'U'], maze, posX, posY, todo, current)\n",
    "        # on bottom-right corner\n",
    "        elif(posY==width-1 and posX==height-1):\n",
    "            continue       \n",
    "        \n",
    "        #FRONTIER CELLS:\n",
    "        # on left frontier\n",
    "        elif(posY==0):\n",
    "            maze, todo = case1(['R', 'D', 'U'], maze, posX, posY, todo, current)        \n",
    "        # on right frontier\n",
    "        elif(posY==width-1):\n",
    "            maze, todo = case1(['L', 'D', 'U'], maze, posX, posY, todo, current)         \n",
    "        # on top frontier\n",
    "        elif(posX==0):\n",
    "            maze, todo = case1(['R', 'D', 'L'], maze, posX, posY, todo, current)       \n",
    "        # on bottom frontier\n",
    "        elif(posX==height-1):\n",
    "            maze, todo = case1(['R', 'L', 'U'], maze, posX, posY, todo, current)\n",
    "        \n",
    "        #CENTRAL CELLS\n",
    "        else:\n",
    "            maze, todo = case1(['R', 'D', 'U', 'L'], maze, posX, posY, todo, current)\n",
    "            \n",
    "    return maze"
   ]
  },
  {
   "cell_type": "code",
   "execution_count": 4,
   "metadata": {},
   "outputs": [
    {
     "name": "stdout",
     "output_type": "stream",
     "text": [
      "[[ 0  1  2  3  4  5  6  7  8  9]\n",
      " [ 1  2  3  4  5  6  7  0  9 10]\n",
      " [ 2  3  0  5  6  7  8  9 10 11]\n",
      " [ 3  4  5  0  7  8  9 10 11 12]\n",
      " [ 0  0  0  9  8  9  0 11 12 13]]\n"
     ]
    }
   ],
   "source": [
    "MAZE1 = step1(MAZE)\n",
    "print(MAZE1)"
   ]
  },
  {
   "cell_type": "markdown",
   "metadata": {},
   "source": [
    "# STEP 2"
   ]
  },
  {
   "cell_type": "code",
   "execution_count": 5,
   "metadata": {},
   "outputs": [],
   "source": [
    "# return one of possible next cells and update the final maze by replacing value of curent cell by -1\n",
    "def nextPosition(tab, maze, maze_final, posX, posY):\n",
    "    # get number corresponding to adjacent cells\n",
    "    numbers = [maze[direction(d,posX,posY)] for d in tab]\n",
    "    for i, nb in enumerate(numbers):\n",
    "        # 1st part : optimal neigbour occurs when its value is less than the current one\n",
    "        # 2nd part : due to conflicting zeros between depart and walls\n",
    "        if nb+1==maze[posX,posY] and maze_final[direction(tab[i],posX,posY)]!=0:\n",
    "            maze_final[posX, posY]=-1\n",
    "            nextPos = direction(tab[i],posX,posY)\n",
    "            return nextPos[0], nextPos[1], maze, maze_final\n",
    "    \n",
    "# complete the step 2\n",
    "def step2(maze1_c, maze_final_c):\n",
    "    maze1 = maze1_c.copy()\n",
    "    maze_final = maze_final_c.copy()\n",
    "    posX = height-1\n",
    "    posY = width-1\n",
    "    if(height>1 and width>1 and maze1[height-1,width-1]==1):\n",
    "        print(\"The maze has no solution and I print it clearly!\")\n",
    "        return maze_final\n",
    "    \n",
    "    # while we are not in the top-left corner\n",
    "    while(True):\n",
    "        \n",
    "        # CORNER CELLS:\n",
    "        # on bottom-right corner\n",
    "        if(posX==height-1 and posY==width-1):\n",
    "            posX, posY, maze1, maze_final = nextPosition(['L', 'U'], maze1, maze_final, posX, posY)\n",
    "        # on top-right corner\n",
    "        elif(posY==width-1 and posX==0):  \n",
    "            posX, posY, maze1, maze_final = nextPosition(['D', 'L'], maze1, maze_final, posX, posY) \n",
    "        # on bottom-left corner\n",
    "        elif(posY==0 and posX==height-1):\n",
    "            posX, posY, maze1, maze_final = nextPosition(['R', 'U'], maze1, maze_final, posX, posY) \n",
    "        # on top-left corner\n",
    "        elif(posY==0 and posX==0):\n",
    "            maze_final[0,0]=-1\n",
    "            maze_final[height-1,width-1]=3\n",
    "            plt.imshow(maze_final)\n",
    "            plt.show()\n",
    "            return maze_final\n",
    "        \n",
    "        # FRONTIER CELLS\n",
    "        # on right frontier\n",
    "        elif(posY==width-1):\n",
    "            posX, posY, maze1, maze_final = nextPosition(['L', 'D', 'U'], maze1, maze_final, posX, posY)\n",
    "        # on top frontier\n",
    "        elif(posX==0):\n",
    "            posX, posY, maze1, maze_final = nextPosition(['R', 'D', 'L'], maze1, maze_final, posX, posY)\n",
    "        # on bottom frontier\n",
    "        elif(posX==height-1):\n",
    "            posX, posY, maze1, maze_final = nextPosition(['L', 'U', 'R'], maze1, maze_final, posX, posY)\n",
    "        # on left frontier\n",
    "        elif(posY==0):\n",
    "            posX, posY, maze1, maze_final = nextPosition(['D', 'U', 'R'], maze1, maze_final, posX, posY)\n",
    "        \n",
    "        # CENTRAL CELLS\n",
    "        else:\n",
    "            posX, posY, maze1, maze_final = nextPosition(['L', 'D', 'U', 'R'], maze1, maze_final, posX, posY)\n",
    "        "
   ]
  },
  {
   "cell_type": "code",
   "execution_count": 6,
   "metadata": {},
   "outputs": [
    {
     "data": {
      "image/png": "[encoded data removed]",
      "text/plain": [
       "<Figure size 432x288 with 1 Axes>"
      ]
     },
     "metadata": {
      "needs_background": "light"
     },
     "output_type": "display_data"
    }
   ],
   "source": [
    "MAZE_FINAL = step2(MAZE1, MAZE)"
   ]
  },
  {
   "cell_type": "markdown",
   "metadata": {},
   "source": [
    "Notice that we have not the same result than in the instruction since multiple ones are possible!\n",
    "\n",
    "___\n",
    "# Everything together"
   ]
  },
  {
   "cell_type": "code",
   "execution_count": 12,
   "metadata": {},
   "outputs": [
    {
     "name": "stdout",
     "output_type": "stream",
     "text": [
      "          Initial maze\n"
     ]
    },
    {
     "data": {
      "image/png": "[encoded data removed]",
      "text/plain": [
       "<Figure size 432x288 with 1 Axes>"
      ]
     },
     "metadata": {
      "needs_background": "light"
     },
     "output_type": "display_data"
    },
    {
     "name": "stdout",
     "output_type": "stream",
     "text": [
      "               ||\n",
      "               ||\n",
      "               \\/\n",
      "\n",
      "             STEP1:\n",
      "\n",
      " [[  0   1   2 ... 145   0 147]\n",
      " [  1   2   3 ...   0 145 146]\n",
      " [  2   3   4 ... 143 144   0]\n",
      " ...\n",
      " [  1   0   0 ... 138   0   0]\n",
      " [  1   1   1 ...   0   0   0]\n",
      " [  0   1   1 ... 140 141 142]] \n",
      "\n",
      "               ||\n",
      "               ||\n",
      "               \\/\n",
      "\n",
      "             STEP2:\n",
      "\n"
     ]
    },
    {
     "data": {
      "image/png": "[encoded data removed]",
      "text/plain": [
       "<Figure size 432x288 with 1 Axes>"
      ]
     },
     "metadata": {
      "needs_background": "light"
     },
     "output_type": "display_data"
    }
   ],
   "source": [
    "import sys\n",
    "print(\"          Initial maze\")\n",
    "MAZE, height, width = newMaze(1234, 20, 100, 0.3)\n",
    "\n",
    "\n",
    "if height+width<4:\n",
    "    print('A maze should have more than one row or column ! ')\n",
    "    sys.exit()\n",
    "spaces = \"            \"\n",
    "print(spaces,\"  ||\\n\",spaces,\" ||\\n\",spaces,\" \\/\\n\") \n",
    "MAZE1 = step1(MAZE)\n",
    "print(\"             STEP1:\\n\\n\", MAZE1,'\\n')\n",
    "print(spaces,\"  ||\\n\",spaces,\" ||\\n\",spaces,\" \\/\\n\") \n",
    "print(\"             STEP2:\\n\")\n",
    "MAZE_FINAL = step2(MAZE1, MAZE)"
   ]
  },
  {
   "cell_type": "code",
   "execution_count": null,
   "metadata": {},
   "outputs": [],
   "source": []
  },
  {
   "cell_type": "code",
   "execution_count": null,
   "metadata": {},
   "outputs": [],
   "source": []
  },
  {
   "cell_type": "code",
   "execution_count": null,
   "metadata": {},
   "outputs": [],
   "source": []
  },
  {
   "cell_type": "code",
   "execution_count": null,
   "metadata": {},
   "outputs": [],
   "source": []
  },
  {
   "cell_type": "code",
   "execution_count": null,
   "metadata": {},
   "outputs": [],
   "source": []
  },
  {
   "cell_type": "code",
   "execution_count": 8,
   "metadata": {},
   "outputs": [
    {
     "ename": "NameError",
     "evalue": "name 'b' is not defined",
     "output_type": "error",
     "traceback": [
      "\u001b[0;31m---------------------------------------------------------------------------\u001b[0m",
      "\u001b[0;31mNameError\u001b[0m                                 Traceback (most recent call last)",
      "\u001b[0;32m<ipython-input-8-89e6c98d9288>\u001b[0m in \u001b[0;36m<module>\u001b[0;34m\u001b[0m\n\u001b[0;32m----> 1\u001b[0;31m \u001b[0mb\u001b[0m\u001b[0;34m\u001b[0m\u001b[0;34m\u001b[0m\u001b[0m\n\u001b[0m",
      "\u001b[0;31mNameError\u001b[0m: name 'b' is not defined"
     ]
    }
   ],
   "source": [
    "b"
   ]
  },
  {
   "cell_type": "code",
   "execution_count": null,
   "metadata": {},
   "outputs": [],
   "source": []
  },
  {
   "cell_type": "code",
   "execution_count": null,
   "metadata": {},
   "outputs": [],
   "source": []
  }
 ],
 "metadata": {
  "kernelspec": {
   "display_name": "Python 3",
   "language": "python",
   "name": "python3"
  },
  "language_info": {
   "codemirror_mode": {
    "name": "ipython",
    "version": 3
   },
   "file_extension": ".py",
   "mimetype": "text/x-python",
   "name": "python",
   "nbconvert_exporter": "python",
   "pygments_lexer": "ipython3",
   "version": "3.7.4"
  }
 },
 "nbformat": 4,
 "nbformat_minor": 2
}
